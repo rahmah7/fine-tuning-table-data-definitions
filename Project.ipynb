import mysql.connector
from mysql.connector import Error

# الاتصال بقاعدة البيانات
def create_connection():
    try:
        connection = mysql.connector.connect(
            host="localhost",            # أو العنوان IP الخاص بالخادم
            user="root",                 # أو المستخدم الخاص بك
            password="your_password",    # كلمة مرور MySQL الخاصة بك
            database="airline_tweets"    # استبدل باسم قاعدة البيانات
        )
        if connection.is_connected():
            print("تم الاتصال بنجاح بقاعدة البيانات!")
        return connection
    except Error as e:
        print(f"حدث خطأ في الاتصال بقاعدة البيانات: {e}")
        return None
CREATE TABLE IF NOT EXISTS tweets (
    tweet_id BIGINT PRIMARY KEY,          -- معرف فريد لكل تغريدة (رقم كبير لتخزين قيم تغريدات كبيرة)
    user_id BIGINT,                       -- معرف المستخدم
    tweet_text TEXT,                      -- نص التغريدة
    created_at DATETIME,                  -- تاريخ ووقت التغريدة
    airline VARCHAR(100),                 -- اسم شركة الطيران
    hashtags VARCHAR(255),                -- الهاشتاجات
    location VARCHAR(255),                -- الموقع الجغرافي
    retweets INT DEFAULT 0,                -- عدد إعادة التغريد
    likes INT DEFAULT 0                   -- عدد الإعجابات
);
CREATE INDEX idx_user_id ON tweets(user_id);
CREATE INDEX idx_created_at ON tweets(created_at);
CREATE TABLE IF NOT EXISTS tweets (
    tweet_id BIGINT PRIMARY KEY,  
    user_id BIGINT NOT NULL,
    tweet_text TEXT NOT NULL,  
    created_at DATETIME NOT NULL, 
    airline VARCHAR(100) NOT NULL, 
    hashtags VARCHAR(255),         
    location VARCHAR(255),         
    retweets INT DEFAULT 0,         
    likes INT DEFAULT 0            
);
CREATE TABLE IF NOT EXISTS tweets (
    tweet_id BIGINT PRIMARY KEY,  
    user_id BIGINT NOT NULL,
    tweet_text TEXT NOT NULL,  
    created_at DATETIME NOT NULL, 
    airline VARCHAR(100) NOT NULL, 
    hashtags VARCHAR(255),         
    location VARCHAR(255),         
    retweets INT DEFAULT 0,         
    likes INT DEFAULT 0            
)
PARTITION BY RANGE (YEAR(created_at)) (
    PARTITION p2022 VALUES LESS THAN (2023),
    PARTITION p2023 VALUES LESS THAN (2024),
    PARTITION p2024 VALUES LESS THAN (2025)
);
EXPLAIN SELECT * FROM tweets WHERE user_id = 12345;
INSERT INTO tweets (tweet_id, user_id, tweet_text, created_at, airline, hashtags, location, retweets, likes) 
VALUES 
(1, 101, 'Flight was delayed!', '2024-12-05 10:15:00', 'Airline A', '#delayed', 'New York', 10, 200),
(2, 102, 'Great flight experience!', '2024-12-05 12:30:00', 'Airline B', '#amazing', 'Los Angeles', 50, 500);
SELECT * FROM tweets WHERE hashtags LIKE '%delayed%';
SELECT u.user_name, t.tweet_text, t.created_at 
FROM tweets t
JOIN users u ON t.user_id = u.user_id
WHERE t.created_at > '2024-12-01'
ORDER BY t.created_at DESC;
